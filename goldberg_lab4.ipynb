{
 "cells": [
  {
   "cell_type": "code",
   "execution_count": null,
   "id": "4c033dc6-fa26-459d-aec8-114d62926487",
   "metadata": {},
   "outputs": [],
   "source": [
    "import json\n",
    "import requests\n",
    "import pandas\n",
    "import matplotlib.pyplot as plt"
   ]
  },
  {
   "cell_type": "code",
   "execution_count": null,
   "id": "8300ed6a-8195-42e7-a8df-0b03eb310a58",
   "metadata": {},
   "outputs": [],
   "source": [
    "# https://query1.finance.yahoo.com/v11/finance/quoteSummary/{symbol}\n",
    "header = {\n",
    "    'User-Agent': 'Mozilla/5.0 (Macintosh; Intel Mac OS X 10_10_1) AppleWebKit/537.36 (KHTML, like Gecko) Chrome/39.0.2171.95 Safari/537.36'\n",
    " }\n",
    "url = 'https://query1.finance.yahoo.com/v10/finance/quoteSummary/'\n",
    "url2 = 'https://query1.finance.yahoo.com/v7/finance/quote'"
   ]
  },
  {
   "cell_type": "code",
   "execution_count": null,
   "id": "1ce7a853",
   "metadata": {},
   "outputs": [],
   "source": [
    "stock = input()"
   ]
  },
  {
   "cell_type": "code",
   "execution_count": null,
   "id": "9eeef0da",
   "metadata": {},
   "outputs": [],
   "source": [
    "query = {'symbol':stock,'modules':'financialData'}\n",
    "query2 = {'symbols':stock}"
   ]
  },
  {
   "cell_type": "code",
   "execution_count": null,
   "id": "a7fca194-65d7-4bda-882f-40aec8db83bb",
   "metadata": {},
   "outputs": [],
   "source": [
    "response2 = requests.request(\"GET\",url2,headers = header, params = query2)\n",
    "json_resp2 = response2.json()"
   ]
  },
  {
   "cell_type": "code",
   "execution_count": null,
   "id": "297bf945-4771-4834-bd23-eaa8961d8c36",
   "metadata": {},
   "outputs": [],
   "source": [
    "response = requests.request(\"GET\",url,headers = header, params = query)\n",
    "json_resp = response.json()"
   ]
  },
  {
   "cell_type": "code",
   "execution_count": null,
   "id": "71d277b4-e347-4857-a859-eb1e69594483",
   "metadata": {},
   "outputs": [],
   "source": [
    "try:\n",
    "    symb = json_resp2['quoteResponse']['result'][0]['symbol']\n",
    "except (IndexError):\n",
    "    print('Invalid Ticker. Try Again.')"
   ]
  },
  {
   "cell_type": "code",
   "execution_count": null,
   "id": "0122aa77",
   "metadata": {},
   "outputs": [],
   "source": [
    "name = json_resp2['quoteResponse']['result'][0]['longName']\n",
    "curPrice = json_resp['quoteSummary']['result'][0]['financialData']['currentPrice']['fmt']\n",
    "tmp = json_resp['quoteSummary']['result'][0]['financialData']['targetMeanPrice']['fmt']\n",
    "cash = json_resp['quoteSummary']['result'][0]['financialData']['totalCash']['fmt']\n",
    "profMarg = json_resp['quoteSummary']['result'][0]['financialData']['profitMargins']['fmt']\n",
    "date = str(pandas.Timestamp(json_resp2['quoteResponse']['result'][0]['regularMarketTime']))"
   ]
  },
  {
   "cell_type": "code",
   "execution_count": null,
   "id": "ad07caf8-8887-4a12-879d-0cbda473636f",
   "metadata": {},
   "outputs": [],
   "source": [
    "print('Name Ticker:',symb +',','Full Name:',name+',','Current Price:',curPrice+',','Target Mean Price:',tmp+',','Cash on Hand:',cash+',','Profit Margins:',profMarg)"
   ]
  },
  {
   "cell_type": "code",
   "execution_count": null,
   "id": "62ce884f",
   "metadata": {},
   "outputs": [],
   "source": [
    "dict = {'date':date,'symb':symb,'name':name,'current_price':curPrice,'target_mean_price':tmp,'cash_on_hand':cash,'profit_margins':profMarg}\n",
    "results_json = json.dumps(dict)"
   ]
  },
  {
   "cell_type": "code",
   "execution_count": null,
   "id": "746963c9",
   "metadata": {},
   "outputs": [],
   "source": [
    "url3 = 'https://query1.finance.yahoo.com/v8/finance/chart/'\n",
    "query3 = {'symbol':stock,'interval':'1d','range':'5d'}\n",
    "response3 = requests.request(\"GET\",url3,headers = header, params = query3)\n",
    "json_resp3 = response3.json()"
   ]
  },
  {
   "cell_type": "code",
   "execution_count": null,
   "id": "ddd08d53",
   "metadata": {},
   "outputs": [],
   "source": [
    "highPrice = json_resp3['chart']['result'][0]['indicators']['quote'][0]['high']\n",
    "days = [1, 2, 3, 4, 5]"
   ]
  },
  {
   "cell_type": "code",
   "execution_count": null,
   "id": "ba07090a",
   "metadata": {},
   "outputs": [],
   "source": [
    "plt.plot(days,highPrice)\n",
    "plt.xlabel('Day')\n",
    "plt.ylabel('Historical Price of Stock Price’s Highest Value')\n",
    "plt.title('Stock Price\\'s Highest Value Over Past 5 Days')\n",
    "plt.xticks([1,2,3,4,5])\n",
    "plt.show()"
   ]
  },
  {
   "cell_type": "code",
   "execution_count": null,
   "id": "4dfe437a",
   "metadata": {},
   "outputs": [],
   "source": []
  }
 ],
 "metadata": {
  "kernelspec": {
   "display_name": "Python 3 (ipykernel)",
   "language": "python",
   "name": "python3"
  },
  "language_info": {
   "codemirror_mode": {
    "name": "ipython",
    "version": 3
   },
   "file_extension": ".py",
   "mimetype": "text/x-python",
   "name": "python",
   "nbconvert_exporter": "python",
   "pygments_lexer": "ipython3",
   "version": "3.9.12"
  }
 },
 "nbformat": 4,
 "nbformat_minor": 5
}
