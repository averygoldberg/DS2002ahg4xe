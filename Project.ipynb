{
 "cells": [
  {
   "cell_type": "code",
   "execution_count": 11,
   "id": "c1fbb7cf",
   "metadata": {},
   "outputs": [],
   "source": [
    "import json\n",
    "import pandas as pd\n",
    "import requests\n",
    "import os\n",
    "import csv\n",
    "import sqlite3\n",
    "import ast"
   ]
  },
  {
   "cell_type": "code",
   "execution_count": 42,
   "id": "fc2b254d",
   "metadata": {},
   "outputs": [],
   "source": [
    "header = {\n",
    "    'User-Agent': 'Mozilla/5.0 (Macintosh; Intel Mac OS X 10_10_1) AppleWebKit/537.36 (KHTML, like Gecko) Chrome/39.0.2171.95 Safari/537.36'\n",
    " }"
   ]
  },
  {
   "cell_type": "markdown",
   "id": "5ba83839",
   "metadata": {},
   "source": [
    "##### Taking File as Input:"
   ]
  },
  {
   "cell_type": "code",
   "execution_count": 43,
   "id": "c1a0c1fd",
   "metadata": {},
   "outputs": [
    {
     "name": "stdout",
     "output_type": "stream",
     "text": [
      "/Users/averygoldberg/Documents/DS 2002/Salary_Data.csv\n"
     ]
    }
   ],
   "source": [
    "source = input()"
   ]
  },
  {
   "cell_type": "code",
   "execution_count": 44,
   "id": "9dce30aa",
   "metadata": {},
   "outputs": [
    {
     "name": "stdout",
     "output_type": "stream",
     "text": [
      "csv\n"
     ]
    }
   ],
   "source": [
    "sourcetype = input()\n",
    "# url, csv, json"
   ]
  },
  {
   "cell_type": "markdown",
   "id": "d006ba63",
   "metadata": {},
   "source": [
    "##### Reading File:"
   ]
  },
  {
   "cell_type": "code",
   "execution_count": 45,
   "id": "2e450f1c",
   "metadata": {},
   "outputs": [],
   "source": [
    "try:\n",
    "    if sourcetype == 'url':\n",
    "        query = input('Input query: ')\n",
    "        query = ast.literal_eval(query) \n",
    "        # source: https://stackoverflow.com/questions/988228/convert-a-string-representation-of-a-dictionary-to-a-dictionary\n",
    "        # converts dictionary as string to dictionary\n",
    "        file = requests.request(\"GET\",source,headers = header, params = query)\n",
    "    elif sourcetype == 'json':\n",
    "        f = open(source,'r')\n",
    "        file = json.loads(f.read())\n",
    "        f.close()\n",
    "    elif sourcetype == 'csv':\n",
    "        file = open(source)\n",
    "        file = csv.reader(file)\n",
    "        header = []\n",
    "        header = next(file)\n",
    "        data = []\n",
    "        for row in file:\n",
    "            data.append(row)\n",
    "        file = data\n",
    "except (FileNotFoundError):\n",
    "    print('Try again with new source.')"
   ]
  },
  {
   "cell_type": "markdown",
   "id": "cbe72596",
   "metadata": {},
   "source": [
    "##### Summary of File:"
   ]
  },
  {
   "cell_type": "code",
   "execution_count": 46,
   "id": "e675bfd9",
   "metadata": {},
   "outputs": [
    {
     "name": "stdout",
     "output_type": "stream",
     "text": [
      "[['1.1', '39343.00'], ['1.3', '46205.00'], ['1.5', '37731.00'], ['2.0', '43525.00'], ['2.2', '39891.00'], ['2.9', '56642.00'], ['3.0', '60150.00'], ['3.2', '54445.00'], ['3.2', '64445.00'], ['3.7', '57189.00'], ['3.9', '63218.00'], ['4.0', '55794.00'], ['4.0', '56957.00'], ['4.1', '57081.00'], ['4.5', '61111.00'], ['4.9', '67938.00'], ['5.1', '66029.00'], ['5.3', '83088.00'], ['5.9', '81363.00'], ['6.0', '93940.00'], ['6.8', '91738.00'], ['7.1', '98273.00'], ['7.9', '101302.00'], ['8.2', '113812.00'], ['8.7', '109431.00'], ['9.0', '105582.00'], ['9.5', '116969.00'], ['9.6', '112635.00'], ['10.3', '122391.00'], ['10.5', '121872.00']]\n"
     ]
    }
   ],
   "source": [
    "print(file)"
   ]
  },
  {
   "cell_type": "code",
   "execution_count": 47,
   "id": "7ccc28f3",
   "metadata": {},
   "outputs": [
    {
     "name": "stdout",
     "output_type": "stream",
     "text": [
      "Number of rows: 30 \n",
      "Number of columns: 2\n"
     ]
    }
   ],
   "source": [
    "if sourcetype == 'url':\n",
    "    json_file = file.json()\n",
    "    count = 0\n",
    "    for each in json_file:\n",
    "        for i in each:\n",
    "            count += 1\n",
    "    print('The file called from the API %s with parameters %s has' % (source, query), count,'records.')\n",
    "elif sourcetype == 'json':\n",
    "    count = 0\n",
    "    for each in file:\n",
    "        count += 1\n",
    "    print('The JSON file %s has' % source, count, 'records. The file provides data for %s.' % file.keys())\n",
    "elif sourcetype == 'csv':\n",
    "    rows = 0\n",
    "    for each in file:\n",
    "        cols = len(each)\n",
    "        rows += 1\n",
    "    print('Number of rows:',rows,'\\nNumber of columns:',cols)"
   ]
  },
  {
   "cell_type": "code",
   "execution_count": 48,
   "id": "d597373a",
   "metadata": {},
   "outputs": [
    {
     "name": "stdout",
     "output_type": "stream",
     "text": [
      "Input new file type: json\n"
     ]
    }
   ],
   "source": [
    "conv_type = input('Input new file type: ')\n",
    "# type of file to which file will be converted\n",
    "# SQL, csv, json"
   ]
  },
  {
   "cell_type": "code",
   "execution_count": 49,
   "id": "4042d451",
   "metadata": {},
   "outputs": [],
   "source": [
    "if conv_type == 'SQL': # converts API source, json, or csv file to sql database\n",
    "    if sourcetype == 'json':\n",
    "        df = pd.DataFrame(file, index = [0]) # makes dataframe from dictionary\n",
    "        filename = input('Input filename ([name].db): ') # takes input for filename for sql database\n",
    "        conn = sqlite3.connect(filename)\n",
    "        cur = conn.cursor()\n",
    "        df.to_sql(filename, conn) # create sql database\n",
    "    elif sourcetype == 'csv':\n",
    "        # if source is csv\n",
    "        dictjson = {} # initializes dictionary for json file\n",
    "        for i in range(0,cols):\n",
    "                dictjson[header[i]] = [] # initializes keys in json dictionary\n",
    "        for each in file:\n",
    "            for i in range(0,cols):\n",
    "                dictjson[header[i]].append(each[i]) # adds values to keys in json dictionary\n",
    "        file = dictjson\n",
    "        df = pd.DataFrame(file, index = [0]) # makes dataframe from dictionary\n",
    "        filename = input('Input filename ([name].db): ') # takes input for filename for sql database\n",
    "        conn = sqlite3.connect(filename)\n",
    "        cur = conn.cursor()\n",
    "        df.to_sql(filename, conn) # create sql database\n",
    "    elif sourcetype == 'url':\n",
    "        file = file.json()\n",
    "        df = pd.DataFrame(file, index = [0]) # makes dataframe from dictionary\n",
    "        filename = input('Input filename ([name].db): ') # takes input for filename for sql database\n",
    "        conn = sqlite3.connect(filename)\n",
    "        cur = conn.cursor()\n",
    "        df.to_sql(filename, conn) # create sql database\n",
    "elif conv_type == 'json': # converts API source or csv file to json file\n",
    "    if sourcetype == 'url':\n",
    "        file_json = file.json() # if source is an API converts results to json\n",
    "        api_json = json.dumps(file_json) # stores json locally\n",
    "    elif sourcetype == 'csv':\n",
    "        # if source is csv\n",
    "        dictjson = {} # initializes dictionary for json file\n",
    "        for i in range(0,cols):\n",
    "                dictjson[header[i]] = [] # initializes keys in json dictionary\n",
    "        for each in file:\n",
    "            for i in range(0,cols):\n",
    "                dictjson[header[i]].append(each[i]) # adds values to keys in json dictionary\n",
    "        file = json.dumps(dictjson) # saves dictionary as json file locally\n",
    "elif conv_type == 'csv': # converts API source or json to csv file\n",
    "    if sourcetype == 'url':\n",
    "        file = file.json() # turns called API data to json file\n",
    "        for each in file.keys():\n",
    "            keys = each\n",
    "        nfile = file[keys]['result'] # calls list within called data that stores results\n",
    "        headers = [] # initializes header\n",
    "        values = [] # initializes values\n",
    "        for head in nfile[0].keys():\n",
    "            headers.append(head) # creates header list\n",
    "        for val in nfile[0].values():\n",
    "            values.append(val) # creates values list\n",
    "        filecsv = []\n",
    "        filecsv.append(headers)\n",
    "        filecsv.append(values)\n",
    "        # creates list of headers list and values list\n",
    "        filename = input('Input filename: ') # '[name].csv'\n",
    "        with open(filename, 'w', newline=\"\") as file_csv:\n",
    "            csvwriter = csv.writer(file_csv) # creates a csvwriter object (source: GitHub python/CSV.ipynb)\n",
    "            for each in filecsv:\n",
    "                csvwriter.writerow(each) # writes csv file\n",
    "    elif sourcetype == 'json':\n",
    "        headers = [] # initializes header\n",
    "        values = [] # initializes values\n",
    "        for head in file.keys():\n",
    "            headers.append(head) # creates header list\n",
    "        for val in file.values():\n",
    "            values.append(val) # creates values list\n",
    "        filecsv = []\n",
    "        filecsv.append(headers)\n",
    "        filecsv.append(values)\n",
    "        # creates list of headers list and values list\n",
    "        filename = input('Input filename: ') # '[name].csv'\n",
    "        with open(filename, 'w', newline=\"\") as file_csv:\n",
    "            csvwriter = csv.writer(file_csv) # creates a csvwriter object (source: GitHub python/CSV.ipynb)\n",
    "            for each in filecsv:\n",
    "                csvwriter.writerow(each) # writes csv file"
   ]
  },
  {
   "cell_type": "code",
   "execution_count": null,
   "id": "3300b77a",
   "metadata": {},
   "outputs": [],
   "source": []
  }
 ],
 "metadata": {
  "kernelspec": {
   "display_name": "Python 3 (ipykernel)",
   "language": "python",
   "name": "python3"
  },
  "language_info": {
   "codemirror_mode": {
    "name": "ipython",
    "version": 3
   },
   "file_extension": ".py",
   "mimetype": "text/x-python",
   "name": "python",
   "nbconvert_exporter": "python",
   "pygments_lexer": "ipython3",
   "version": "3.9.12"
  }
 },
 "nbformat": 4,
 "nbformat_minor": 5
}
